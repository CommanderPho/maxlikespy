{
 "cells": [
  {
   "cell_type": "markdown",
   "metadata": {},
   "source": [
    "# Model Creation Walkthrough\n",
    "\n",
    "Models in `maxlikespy` are implemented as classes that inherit the base Model class.\n",
    "\n",
    "\n",
    "## Model Requirements\n",
    "\n",
    "There are three necessary components of a model declaration in `maxlikespy`\n",
    "\n",
    "* A function `model(self, x)` that returns the functional form of your model, evaluated over space or time\n",
    "* A list of the model's parameter names **in the same order** as they are unpacked from the solver input `x`\n",
    "* A function `objective(self, x)` that returns the model's likelihood\n",
    "\n",
    "Below is the model definition for the single peak gaussian example in the tutorial.\n",
    "\n"
   ]
  },
  {
   "cell_type": "code",
   "execution_count": null,
   "metadata": {},
   "outputs": [],
   "source": [
    "class Time(Model):\n",
    "\n",
    "    \"\"\"Model which contains a time dependent gaussian compenent \n",
    "    and an offset parameter.\n",
    "\n",
    "    \"\"\"\n",
    "\n",
    "    def __init__(self, data):\n",
    "        super().__init__(data)\n",
    "        self.param_names = [\"a_1\", \"ut\", \"st\", \"a_0\"]\n",
    "\n",
    "    def model(self, x):\n",
    "        a_1, ut, st, a_0 = x\n",
    "        self.function = (\n",
    "            (a_1 * np.exp(-np.power(self.t - ut, 2.) / (2 * np.power(st, 2.)))) + a_0)\n",
    "        \n",
    "        return self.function\n",
    "    \n",
    "    def objective(self, x):\n",
    "        fun = self.model(x)\n",
    "        obj = np.sum(self.spikes * (-np.log(fun)) +\n",
    "                      (1 - self.spikes) * (-np.log(1 - (fun))))\n",
    "        \n",
    "        return obj"
   ]
  },
  {
   "cell_type": "markdown",
   "metadata": {},
   "source": [
    "The only unknown quantity here is `self.t` which is a numpy array describing the experimental time window which is computed by the `DataProcessor` class.\n",
    "\n",
    "## A More Complicated Model\n",
    "\n",
    "Given a dataset with some categorical labels on each trial (in the form of a conditions.json file), we can construct a model that tests for sensitivity to these labels. \n",
    "\n",
    "Below is the model definition for a gaussian firing field with components related to two different condition labels. \n"
   ]
  },
  {
   "cell_type": "code",
   "execution_count": null,
   "metadata": {},
   "outputs": [],
   "source": [
    "class CatSetTime(Model):\n",
    "\n",
    "    \"\"\"Model which contains seperate time-dependent gaussian terms per each given category sets.\n",
    "\n",
    "    \"\"\"\n",
    "\n",
    "    def __init__(self, data):\n",
    "        super().__init__(data)\n",
    "        self.plot_t = self.t\n",
    "        self.t = np.tile(self.t, (data[\"num_trials\"], 1))\n",
    "        self.conditions = data[\"conditions\"]\n",
    "        self.param_names = [\"ut\", \"st\", \"a_0\", \"a_1\", \"a_2\"]\n",
    "\n",
    "\n",
    "    def model(self, x):\n",
    "        ut, st, a_0 = x[0], x[1], x[2]\n",
    "        a_1, a_2 = x[3], x[4]\n",
    "        c1 = self.conditions[1]\n",
    "        c2 = self.conditions[2]\n",
    "\n",
    "        return ((a_1 * c1 * np.exp(-np.power(self.t - ut, 2.) / (2 * np.power(st, 2.)))) + \\\n",
    "            (a_2 * c2 * np.exp(-np.power(self.t - ut, 2.) / (2 * np.power(st, 2.))))) + a_0\n",
    "\n",
    "    def objective(self, x):\n",
    "        fun = self.model(x)\n",
    "        return np.sum((self.spikes * (-np.log(fun)) +\n",
    "                        (1 - self.spikes) * (-np.log(1 - (fun)))))\n"
   ]
  },
  {
   "cell_type": "markdown",
   "metadata": {},
   "source": [
    "Here the objective function is the same, but `model` is quite different. \n",
    "The first difference is `self.t = np.tile(self.t, (data[\"num_trials\"], 1))`, this is done because `c1` and `c2` are both vectors of length `num_trials`.\n",
    "\n",
    "In this instance since the experimental conditions were loaded from disk, they can be accessed using the `data` dict. This dict contains any supplementary information loaded from `spike_info.json`, x-y position for example.\n",
    "\n",
    "These are just two relatively simple examples, however they outline the general strategy for creating custom models."
   ]
  },
  {
   "cell_type": "code",
   "execution_count": null,
   "metadata": {},
   "outputs": [],
   "source": []
  }
 ],
 "metadata": {
  "kernelspec": {
   "display_name": "Python 3",
   "language": "python",
   "name": "python3"
  },
  "language_info": {
   "codemirror_mode": {
    "name": "ipython",
    "version": 3
   },
   "file_extension": ".py",
   "mimetype": "text/x-python",
   "name": "python",
   "nbconvert_exporter": "python",
   "pygments_lexer": "ipython3",
   "version": "3.7.4"
  }
 },
 "nbformat": 4,
 "nbformat_minor": 2
}
